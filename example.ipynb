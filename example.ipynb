{
 "cells": [
  {
   "cell_type": "code",
   "execution_count": 10,
   "metadata": {},
   "outputs": [],
   "source": [
    "import numpy as np\n",
    "from keras.utils import to_categorical\n",
    "from tensorflow.keras.datasets import mnist\n",
    "\n",
    "from activation_functions.relu import ReLU\n",
    "from activation_functions.softmax import Softmax\n",
    "from layers.dense import Dense\n",
    "from loss_functions.categorical_crossentropy import CategoricalCrossentropy \n",
    "from nn_model import NN_Model\n",
    "from optimizers.sgd import SGD"
   ]
  },
  {
   "cell_type": "markdown",
   "metadata": {},
   "source": [
    "### Загрузка и подготовка данных"
   ]
  },
  {
   "cell_type": "code",
   "execution_count": 11,
   "metadata": {},
   "outputs": [],
   "source": [
    "(X_train, y_train), (X_test, y_test) = mnist.load_data()\n",
    "\n",
    "X_train = X_train/255\n",
    "X_train = X_train.reshape(-1, 784)\n",
    "y_train = to_categorical(y_train, 10)\n",
    "\n",
    "X_test = X_test/255\n",
    "X_test = X_test.reshape(-1, 784)\n",
    "y_test = to_categorical(y_test, 10)"
   ]
  },
  {
   "cell_type": "markdown",
   "metadata": {},
   "source": [
    "### Задание структуры нейросети"
   ]
  },
  {
   "cell_type": "code",
   "execution_count": 12,
   "metadata": {},
   "outputs": [],
   "source": [
    "model = NN_Model()\n",
    "\n",
    "model.add(Dense(784, 256))\n",
    "model.add(ReLU())\n",
    "model.add(Dense(256, 64))\n",
    "model.add(ReLU())\n",
    "model.add(Dense(64, 10))\n",
    "model.add(Softmax())"
   ]
  },
  {
   "cell_type": "markdown",
   "metadata": {},
   "source": [
    "### Обучение нейросети"
   ]
  },
  {
   "cell_type": "code",
   "execution_count": 13,
   "metadata": {},
   "outputs": [
    {
     "name": "stdout",
     "output_type": "stream",
     "text": [
      "epoch: 0, loss 2.340, train_accuracy 0.172\n",
      "epoch: 10, loss 0.299, train_accuracy 0.926\n",
      "epoch: 20, loss 0.228, train_accuracy 0.934\n",
      "epoch: 30, loss 0.195, train_accuracy 0.941\n",
      "epoch: 40, loss 0.175, train_accuracy 0.953\n",
      "epoch: 50, loss 0.158, train_accuracy 0.953\n",
      "epoch: 60, loss 0.144, train_accuracy 0.957\n",
      "epoch: 70, loss 0.132, train_accuracy 0.957\n",
      "epoch: 80, loss 0.122, train_accuracy 0.961\n",
      "epoch: 90, loss 0.113, train_accuracy 0.961\n",
      "epoch: 100, loss 0.105, train_accuracy 0.961\n",
      "CPU times: total: 7min 24s\n",
      "Wall time: 2min 47s\n"
     ]
    }
   ],
   "source": [
    "%%time\n",
    "model.train(X_train, y_train, epochs=101, batch_size=256,\n",
    "                  loss=CategoricalCrossentropy,\n",
    "                  optimizer=SGD, learning_rate=0.01)"
   ]
  },
  {
   "cell_type": "markdown",
   "metadata": {},
   "source": [
    "### Тестирование нейросети"
   ]
  },
  {
   "cell_type": "code",
   "execution_count": 14,
   "metadata": {},
   "outputs": [
    {
     "name": "stdout",
     "output_type": "stream",
     "text": [
      "Test accuracy: 0.9666\n"
     ]
    }
   ],
   "source": [
    "model.test(X_test, y_test)"
   ]
  }
 ],
 "metadata": {
  "kernelspec": {
   "display_name": "nn_minilib",
   "language": "python",
   "name": "python3"
  },
  "language_info": {
   "codemirror_mode": {
    "name": "ipython",
    "version": 3
   },
   "file_extension": ".py",
   "mimetype": "text/x-python",
   "name": "python",
   "nbconvert_exporter": "python",
   "pygments_lexer": "ipython3",
   "version": "3.11.5"
  }
 },
 "nbformat": 4,
 "nbformat_minor": 2
}
